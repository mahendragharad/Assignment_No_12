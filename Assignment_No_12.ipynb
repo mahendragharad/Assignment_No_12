{
  "nbformat": 4,
  "nbformat_minor": 0,
  "metadata": {
    "colab": {
      "provenance": []
    },
    "kernelspec": {
      "name": "python3",
      "display_name": "Python 3"
    },
    "language_info": {
      "name": "python"
    }
  },
  "cells": [
    {
      "cell_type": "markdown",
      "source": [
        "**1. Write a Python program to Extract Unique values dictionary values?**"
      ],
      "metadata": {
        "id": "OImxyxWzi5Ag"
      }
    },
    {
      "cell_type": "code",
      "execution_count": 3,
      "metadata": {
        "id": "iDVWjTwAh_NQ"
      },
      "outputs": [],
      "source": [
        "def extract_unique( d1 ) :\n",
        "    temp = [x for x in d1.values()]\n",
        "    temp2 = list(set(temp))\n",
        "    return \"Unique values from dict\" , temp2"
      ]
    },
    {
      "cell_type": "code",
      "source": [
        "extract_unique(  { \"key1\" : 1 , \"key2\" : 2 , \"key3\" : 1 , \"key4\" : 2 , \"key5\" : 3 , \"key6\" : \"mahendra\" , \"key7\" : \"mahendra\" , \"key8\" : \"Mahendra\"})"
      ],
      "metadata": {
        "colab": {
          "base_uri": "https://localhost:8080/"
        },
        "id": "i_asD_o7iQEc",
        "outputId": "e647306c-96b4-4a34-b7b9-9ba942a2ca80"
      },
      "execution_count": 4,
      "outputs": [
        {
          "output_type": "execute_result",
          "data": {
            "text/plain": [
              "('Unique values from dict', [1, 2, 3, 'Mahendra', 'mahendra'])"
            ]
          },
          "metadata": {},
          "execution_count": 4
        }
      ]
    },
    {
      "cell_type": "markdown",
      "source": [
        "\n",
        "\n",
        "---\n",
        "\n"
      ],
      "metadata": {
        "id": "H8PLAZVvipD-"
      }
    },
    {
      "cell_type": "markdown",
      "source": [
        "**2. Write a Python program to find the sum of all items in a dictionary?**"
      ],
      "metadata": {
        "id": "ue9cgi26i9Ks"
      }
    },
    {
      "cell_type": "code",
      "source": [
        "def sum_of_item(d2) :\n",
        "    z = [x for x in d2.values() if type(x) == int]\n",
        "    return \"sum of items\" , sum(z)"
      ],
      "metadata": {
        "id": "oNgreI-fijAv"
      },
      "execution_count": 15,
      "outputs": []
    },
    {
      "cell_type": "code",
      "source": [
        "sum_of_item( { \"key1\" : 1 , \"key2\" : 2 , \"key3\" : 1 , \"key4\" : 2 , \"key5\" : 3 , \"key6\" : \"mahendra\" , \"key7\" : \"mahendra\" , \"key8\" : \"Mahendra\"})"
      ],
      "metadata": {
        "colab": {
          "base_uri": "https://localhost:8080/"
        },
        "id": "DSpkGlsaj1hG",
        "outputId": "4462902e-b74a-420d-88ae-c58e02d2a51f"
      },
      "execution_count": 16,
      "outputs": [
        {
          "output_type": "execute_result",
          "data": {
            "text/plain": [
              "('sum of items', 9)"
            ]
          },
          "metadata": {},
          "execution_count": 16
        }
      ]
    },
    {
      "cell_type": "markdown",
      "source": [
        "\n",
        "\n",
        "---\n",
        "\n"
      ],
      "metadata": {
        "id": "fqRxpJ-YmAAL"
      }
    },
    {
      "cell_type": "markdown",
      "source": [
        "**3. Write a Python program to Merging two Dictionaries?**"
      ],
      "metadata": {
        "id": "E36jgp5rtZ1E"
      }
    },
    {
      "cell_type": "code",
      "source": [
        "def merge_two_dict( d1 , d2 ):\n",
        "    for i,j in d2.items() :\n",
        "        d1[i] = j\n",
        "    return d1"
      ],
      "metadata": {
        "id": "rcGi84yZj5n2"
      },
      "execution_count": 17,
      "outputs": []
    },
    {
      "cell_type": "code",
      "source": [
        "merge_two_dict({ \"key1\" : 1 , \"key2\" : 2 , \"key3\" : 1 , \"key4\" : 2 , \"key5\" : 3} ,\n",
        "{\"key6\" : \"mahendra\" , \"key7\" : 90 , \"key8\" : \"Mahendra\"})"
      ],
      "metadata": {
        "colab": {
          "base_uri": "https://localhost:8080/"
        },
        "id": "CvE2xzdrtg3j",
        "outputId": "fa0d0644-e0f6-4a9d-bb36-1d9621775a3f"
      },
      "execution_count": 18,
      "outputs": [
        {
          "output_type": "execute_result",
          "data": {
            "text/plain": [
              "{'key1': 1,\n",
              " 'key2': 2,\n",
              " 'key3': 1,\n",
              " 'key4': 2,\n",
              " 'key5': 3,\n",
              " 'key6': 'mahendra',\n",
              " 'key7': 90,\n",
              " 'key8': 'Mahendra'}"
            ]
          },
          "metadata": {},
          "execution_count": 18
        }
      ]
    },
    {
      "cell_type": "markdown",
      "source": [
        "\n",
        "\n",
        "---\n",
        "\n"
      ],
      "metadata": {
        "id": "u8OF-SR8tk6x"
      }
    },
    {
      "cell_type": "markdown",
      "source": [
        "**4. Write a Python program to convert key-values list to flat dictionary?**"
      ],
      "metadata": {
        "id": "QnoEFFy_tlsH"
      }
    },
    {
      "cell_type": "code",
      "source": [
        "def list_to_flatDict(lst) :\n",
        "    flat_dict = {}\n",
        "    for i , j in lst :\n",
        "        flat_dict[i] = j\n",
        "    return flat_dict\n",
        ""
      ],
      "metadata": {
        "id": "HLz8XBGptjZb"
      },
      "execution_count": 19,
      "outputs": []
    },
    {
      "cell_type": "code",
      "source": [
        "list_to_flatDict([('name', 'John'), ('age', 25), ('city', 'New York')])"
      ],
      "metadata": {
        "colab": {
          "base_uri": "https://localhost:8080/"
        },
        "id": "sUCxdVIItrHc",
        "outputId": "fb1ce5b4-197d-473c-b23f-116ba0e034fb"
      },
      "execution_count": 20,
      "outputs": [
        {
          "output_type": "execute_result",
          "data": {
            "text/plain": [
              "{'name': 'John', 'age': 25, 'city': 'New York'}"
            ]
          },
          "metadata": {},
          "execution_count": 20
        }
      ]
    },
    {
      "cell_type": "markdown",
      "source": [
        "\n",
        "\n",
        "---\n",
        "\n"
      ],
      "metadata": {
        "id": "5WMZi9TLtyPp"
      }
    },
    {
      "cell_type": "markdown",
      "source": [
        "**5. Write a Python program to insertion at the beginning in OrderedDict?**"
      ],
      "metadata": {
        "id": "gzX-19EKvXfz"
      }
    },
    {
      "cell_type": "code",
      "source": [
        "from collections import OrderedDict\n",
        "\n",
        "# Create an OrderedDict\n",
        "ordered_dict = OrderedDict()\n",
        "\n",
        "# Add key-value pairs\n",
        "ordered_dict['a'] = 1\n",
        "ordered_dict['b'] = 2\n",
        "ordered_dict['c'] = 3\n",
        "\n",
        "# Insert a new key-value pair at the beginning\n",
        "ordered_dict['new_key'] = 'new_value'\n",
        "ordered_dict.move_to_end('new_key', last=False)\n",
        "\n",
        "# Print the updated OrderedDict\n",
        "for key, value in ordered_dict.items():\n",
        "    print(key, value)"
      ],
      "metadata": {
        "colab": {
          "base_uri": "https://localhost:8080/"
        },
        "id": "spZguclOtwPu",
        "outputId": "1763ea30-16d2-4d7e-d051-88c2d55bf1e0"
      },
      "execution_count": 21,
      "outputs": [
        {
          "output_type": "stream",
          "name": "stdout",
          "text": [
            "new_key new_value\n",
            "a 1\n",
            "b 2\n",
            "c 3\n"
          ]
        }
      ]
    },
    {
      "cell_type": "markdown",
      "source": [
        "\n",
        "\n",
        "---\n",
        "\n"
      ],
      "metadata": {
        "id": "tAy4U-_Ux6Jw"
      }
    },
    {
      "cell_type": "markdown",
      "source": [
        "**6. Write a Python program to check order of character in string using OrderedDict()?**"
      ],
      "metadata": {
        "id": "NPWfHQrIyXqu"
      }
    },
    {
      "cell_type": "code",
      "source": [
        "from collections import OrderedDict\n",
        "\n",
        "def check_order_of_characters(string):\n",
        "    # Create an OrderedDict to preserve the order\n",
        "    ordered_dict = OrderedDict()\n",
        "\n",
        "    # Iterate through the string and add characters to the OrderedDict\n",
        "    for char in string:\n",
        "        ordered_dict[char] = None\n",
        "\n",
        "    # Join the keys of the OrderedDict to form a new string\n",
        "    ordered_string = ''.join(ordered_dict.keys())\n",
        "\n",
        "    # Compare the original string with the ordered string\n",
        "    if string == ordered_string:\n",
        "        return \"Characters are in order\"\n",
        "    else:\n",
        "        return \"Characters are not in order\"\n"
      ],
      "metadata": {
        "id": "5skudNNUx48k"
      },
      "execution_count": 22,
      "outputs": []
    },
    {
      "cell_type": "code",
      "source": [
        "check_order_of_characters(\"mahendra\")"
      ],
      "metadata": {
        "colab": {
          "base_uri": "https://localhost:8080/",
          "height": 36
        },
        "id": "uVwzaVYRydPO",
        "outputId": "d4762969-b4c5-4b56-9431-40f47986ea62"
      },
      "execution_count": 23,
      "outputs": [
        {
          "output_type": "execute_result",
          "data": {
            "text/plain": [
              "'Characters are not in order'"
            ],
            "application/vnd.google.colaboratory.intrinsic+json": {
              "type": "string"
            }
          },
          "metadata": {},
          "execution_count": 23
        }
      ]
    },
    {
      "cell_type": "code",
      "source": [
        "check_order_of_characters(\"abcde\")"
      ],
      "metadata": {
        "colab": {
          "base_uri": "https://localhost:8080/",
          "height": 36
        },
        "id": "4HJcFD4oyk2X",
        "outputId": "7d4a3b20-f2cd-4041-b426-b8bfe0972c63"
      },
      "execution_count": 24,
      "outputs": [
        {
          "output_type": "execute_result",
          "data": {
            "text/plain": [
              "'Characters are in order'"
            ],
            "application/vnd.google.colaboratory.intrinsic+json": {
              "type": "string"
            }
          },
          "metadata": {},
          "execution_count": 24
        }
      ]
    },
    {
      "cell_type": "markdown",
      "source": [
        "\n",
        "\n",
        "---\n",
        "\n"
      ],
      "metadata": {
        "id": "xTyGB5ZuyjlC"
      }
    },
    {
      "cell_type": "markdown",
      "source": [
        "**7. Write a Python program to sort Python Dictionaries by Key or Value?**"
      ],
      "metadata": {
        "id": "hG_ZeznRyqbh"
      }
    },
    {
      "cell_type": "code",
      "source": [
        "def sort_dict_by_key(dictionary):\n",
        "    sorted_dict = dict(sorted(dictionary.items()))\n",
        "    return sorted_dict"
      ],
      "metadata": {
        "id": "BLJSN36eyiie"
      },
      "execution_count": 25,
      "outputs": []
    },
    {
      "cell_type": "code",
      "source": [
        "sort_dict_by_key({'name': 'John', 'age': 25, 'city': 'New York'})"
      ],
      "metadata": {
        "colab": {
          "base_uri": "https://localhost:8080/"
        },
        "id": "WmQ-mPvRzTBg",
        "outputId": "51201404-66b8-4bae-e117-a47874fe3e78"
      },
      "execution_count": 26,
      "outputs": [
        {
          "output_type": "execute_result",
          "data": {
            "text/plain": [
              "{'age': 25, 'city': 'New York', 'name': 'John'}"
            ]
          },
          "metadata": {},
          "execution_count": 26
        }
      ]
    },
    {
      "cell_type": "markdown",
      "source": [
        "\n",
        "\n",
        "---\n",
        "\n"
      ],
      "metadata": {
        "id": "uisWSZ2qzf_0"
      }
    }
  ]
}